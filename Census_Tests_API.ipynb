{
 "cells": [
  {
   "cell_type": "markdown",
   "id": "3195c916-6c80-46b6-8b8e-f349ab6109c4",
   "metadata": {},
   "source": [
    "# ML Model Deployment with FastAPI and Heroku "
   ]
  },
  {
   "cell_type": "markdown",
   "id": "65cca61f-87e3-4af3-aa49-57efaba9d64d",
   "metadata": {},
   "source": [
    "**Census project:** Predict whether income exceeds $50K/yr based on census data. Also known as Adult dataset.\n",
    "\n",
    "Data has been downloaded from: https://github.com/udacity/nd0821-c3-starter-code/tree/master/starter/data\n",
    "\n",
    "Information on the dataset can be found here: https://archive.ics.uci.edu/dataset/20/census+income\n",
    "\n",
    "## This deployment contains the following Jupyter notebooks:\n",
    "* Load, explore and clean a dataset.\n",
    "* **Tests with API** (performed in this notebook)\n",
    "* Tests with Heroku\n"
   ]
  },
  {
   "cell_type": "markdown",
   "id": "1324a87e-a362-4bf5-a1c0-b502f6a7f38f",
   "metadata": {},
   "source": [
    "## Tests API"
   ]
  },
  {
   "cell_type": "code",
   "execution_count": 1,
   "id": "04adc795-1edd-4bff-a941-718e6554c7f1",
   "metadata": {},
   "outputs": [],
   "source": [
    "# Start univorm server from the command line. \n",
    "# Copy and past the below into your shell.\n",
    "# uvicorn api.app:app --reload\n",
    "# uvicorn main:app --reload"
   ]
  },
  {
   "cell_type": "code",
   "execution_count": 2,
   "id": "f1b2446d-3c6d-4c54-a32e-497528e96329",
   "metadata": {},
   "outputs": [],
   "source": [
    "import requests\n",
    "import json"
   ]
  },
  {
   "cell_type": "code",
   "execution_count": 3,
   "id": "104dd69d-f124-4a47-b491-906a5e676a57",
   "metadata": {},
   "outputs": [
    {
     "name": "stdout",
     "output_type": "stream",
     "text": [
      "GET request successful.\n",
      "Response: <html><body><p>CensusAPI</p><p>Documentation can be found <a href='/docs'>here</a>.</p></body></html>\n"
     ]
    }
   ],
   "source": [
    "# Test GET\n",
    "response = requests.get(\"http://127.0.0.1:8000/\")\n",
    "# Check the response status code\n",
    "if response.status_code == 200:\n",
    "    print(\"GET request successful.\")\n",
    "    print(\"Response:\", response.text)\n",
    "else:\n",
    "    print(\"GET request failed with status code:\", response.status_code)\n",
    "#print(r.text)"
   ]
  },
  {
   "cell_type": "code",
   "execution_count": 4,
   "id": "caeb2d76-40a0-4ef6-a5a5-9c7a93947729",
   "metadata": {},
   "outputs": [],
   "source": [
    "# Test data\n",
    "d = {     \n",
    "      'age': 31,\n",
    "      'workclass': 'Private',\n",
    "      'fnlgt': 45781,\n",
    "      'education': 'Masters',\n",
    "      'education_num': 14,\n",
    "      'marital_status': 'Never-married',\n",
    "      'occupation': 'Prof-specialty',\n",
    "      'relationship': 'Not-in-family',\n",
    "      'race': 'White',\n",
    "      'sex': 'Female',\n",
    "      'capital_gain': 14084,\n",
    "      'capital_loss': 0,\n",
    "      'hours_per_week': 50,\n",
    "      'native_country': 'United-States'\n",
    "    }"
   ]
  },
  {
   "cell_type": "code",
   "execution_count": 5,
   "id": "585bafff-f320-4de1-a432-65e238a533a0",
   "metadata": {},
   "outputs": [
    {
     "data": {
      "text/plain": [
       "[31,\n",
       " 'Private',\n",
       " 45781,\n",
       " 'Masters',\n",
       " 14,\n",
       " 'Never-married',\n",
       " 'Prof-specialty',\n",
       " 'Not-in-family',\n",
       " 'White',\n",
       " 'Female',\n",
       " 14084,\n",
       " 0,\n",
       " 50,\n",
       " 'United-States']"
      ]
     },
     "execution_count": 5,
     "metadata": {},
     "output_type": "execute_result"
    }
   ],
   "source": [
    "# Check alues sent to model\n",
    "(list(d.values()))"
   ]
  },
  {
   "cell_type": "code",
   "execution_count": 6,
   "id": "e14e60ed-aefe-42da-8887-58f9cd33e175",
   "metadata": {},
   "outputs": [
    {
     "name": "stdout",
     "output_type": "stream",
     "text": [
      "POST request successful.\n",
      "[ RESULT: The predicted income is: >50K ]\n"
     ]
    }
   ],
   "source": [
    "response = requests.post('http://localhost:8000/predict', json=d)\n",
    "if response.status_code == 200:\n",
    "    print(\"POST request successful.\")\n",
    "    print(response.text)\n",
    "else:\n",
    "    print(\"POST request failed with status code:\", response.status_code)"
   ]
  },
  {
   "cell_type": "code",
   "execution_count": null,
   "id": "28267b1e-4b45-468c-81e3-0b83451e7bac",
   "metadata": {},
   "outputs": [],
   "source": []
  }
 ],
 "metadata": {
  "kernelspec": {
   "display_name": "Python 3 (ipykernel)",
   "language": "python",
   "name": "python3"
  },
  "language_info": {
   "codemirror_mode": {
    "name": "ipython",
    "version": 3
   },
   "file_extension": ".py",
   "mimetype": "text/x-python",
   "name": "python",
   "nbconvert_exporter": "python",
   "pygments_lexer": "ipython3",
   "version": "3.12.1"
  }
 },
 "nbformat": 4,
 "nbformat_minor": 5
}
