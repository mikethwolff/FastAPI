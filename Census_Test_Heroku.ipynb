{
 "cells": [
  {
   "cell_type": "markdown",
   "id": "3195c916-6c80-46b6-8b8e-f349ab6109c4",
   "metadata": {},
   "source": [
    "# ML Model Deployment with FastAPI and Heroku "
   ]
  },
  {
   "cell_type": "markdown",
   "id": "65cca61f-87e3-4af3-aa49-57efaba9d64d",
   "metadata": {},
   "source": [
    "**Census project:** Predict whether income exceeds $50K/yr based on census data. Also known as Adult dataset.\n",
    "\n",
    "Data has been downloaded from: https://github.com/udacity/nd0821-c3-starter-code/tree/master/starter/data\n",
    "\n",
    "Information on the dataset can be found here: https://archive.ics.uci.edu/dataset/20/census+income\n",
    "\n",
    "## This deployment contains the following Jupyter notebooks:\n",
    "* Load, explore and clean a dataset.\n",
    "* Tests with API (performed in this notebook)\n",
    "* **Tests with Heroku** (performed in this notebook)\n"
   ]
  },
  {
   "cell_type": "markdown",
   "id": "1324a87e-a362-4bf5-a1c0-b502f6a7f38f",
   "metadata": {},
   "source": [
    "## Tests with Heroku"
   ]
  },
  {
   "cell_type": "code",
   "execution_count": null,
   "id": "0518e7cd-f03f-40b5-a4e5-e3267fd358b3",
   "metadata": {},
   "outputs": [],
   "source": [
    "r = requests.get(\"https://census-salaries.herokuapp.com/\")\n",
    "print(r.text)"
   ]
  },
  {
   "cell_type": "code",
   "execution_count": null,
   "id": "18d63875-6aed-4e1c-a84b-9f1fbf072f12",
   "metadata": {},
   "outputs": [],
   "source": [
    "# Test data\n",
    "d = {     \n",
    "      'age': 31,\n",
    "      'workclass': 'Private',\n",
    "      'fnlgt': 45781,\n",
    "      'education': 'Masters',\n",
    "      'education_num': 14,\n",
    "      'marital_status': 'Never-married',\n",
    "      'occupation': 'Prof-specialty',\n",
    "      'relationship': 'Not-in-family',\n",
    "      'race': 'White',\n",
    "      'sex': 'Female',\n",
    "      'capital_gain': 14084,\n",
    "      'capital_loss': 0,\n",
    "      'hours_per_week': 50,\n",
    "      'native_country': 'United-States'\n",
    "    }"
   ]
  },
  {
   "cell_type": "code",
   "execution_count": null,
   "id": "07b4c3eb-d27e-4b78-b375-50b89013cc69",
   "metadata": {},
   "outputs": [],
   "source": [
    "# Check alues sent to model\n",
    "(list(d.values()))"
   ]
  },
  {
   "cell_type": "code",
   "execution_count": null,
   "id": "659afee7-28d9-46d8-8250-54294337e431",
   "metadata": {},
   "outputs": [],
   "source": [
    "response = requests.post(\"https://census-salaries.herokuapp.com/predict\", json=d)\n",
    "if response.status_code == 200:\n",
    "    print(\"POST request successful.\")\n",
    "    print(response.text)\n",
    "else:\n",
    "    print(\"POST request failed with status code:\", response.status_code)"
   ]
  },
  {
   "cell_type": "code",
   "execution_count": null,
   "id": "778ce45f-5269-492f-90c2-4729f65ce8fe",
   "metadata": {},
   "outputs": [],
   "source": [
    "#r = requests.post(\"https://census-salaries.herokuapp.com/predict\", data=json.dumps(d))\n",
    "#print(r.json())"
   ]
  }
 ],
 "metadata": {
  "kernelspec": {
   "display_name": "Python 3 (ipykernel)",
   "language": "python",
   "name": "python3"
  },
  "language_info": {
   "codemirror_mode": {
    "name": "ipython",
    "version": 3
   },
   "file_extension": ".py",
   "mimetype": "text/x-python",
   "name": "python",
   "nbconvert_exporter": "python",
   "pygments_lexer": "ipython3",
   "version": "3.12.1"
  }
 },
 "nbformat": 4,
 "nbformat_minor": 5
}
